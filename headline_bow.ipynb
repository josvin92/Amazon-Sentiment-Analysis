{
  "nbformat": 4,
  "nbformat_minor": 0,
  "metadata": {
    "colab": {
      "name": "headline_bow.ipynb",
      "provenance": [],
      "collapsed_sections": [],
      "authorship_tag": "ABX9TyObqXsYnBg9eqQIFFWHTBta",
      "include_colab_link": true
    },
    "kernelspec": {
      "name": "python3",
      "display_name": "Python 3"
    }
  },
  "cells": [
    {
      "cell_type": "markdown",
      "metadata": {
        "id": "view-in-github",
        "colab_type": "text"
      },
      "source": [
        "<a href=\"https://colab.research.google.com/github/saranoor/Pattern_Recognition-Project/blob/master/headline_bow.ipynb\" target=\"_parent\"><img src=\"https://colab.research.google.com/assets/colab-badge.svg\" alt=\"Open In Colab\"/></a>"
      ]
    },
    {
      "cell_type": "code",
      "metadata": {
        "id": "nksCw0uP5y19",
        "colab_type": "code",
        "outputId": "39aa4d2b-693c-4258-9f94-7ff97d2a7a9b",
        "colab": {
          "base_uri": "https://localhost:8080/",
          "height": 121
        }
      },
      "source": [
        "from google.colab import drive\n",
        "drive.mount('/content/drive')\n"
      ],
      "execution_count": 1,
      "outputs": [
        {
          "output_type": "stream",
          "text": [
            "Go to this URL in a browser: https://accounts.google.com/o/oauth2/auth?client_id=947318989803-6bn6qk8qdgf4n4g3pfee6491hc0brc4i.apps.googleusercontent.com&redirect_uri=urn%3aietf%3awg%3aoauth%3a2.0%3aoob&response_type=code&scope=email%20https%3a%2f%2fwww.googleapis.com%2fauth%2fdocs.test%20https%3a%2f%2fwww.googleapis.com%2fauth%2fdrive%20https%3a%2f%2fwww.googleapis.com%2fauth%2fdrive.photos.readonly%20https%3a%2f%2fwww.googleapis.com%2fauth%2fpeopleapi.readonly\n",
            "\n",
            "Enter your authorization code:\n",
            "··········\n",
            "Mounted at /content/drive\n"
          ],
          "name": "stdout"
        }
      ]
    },
    {
      "cell_type": "code",
      "metadata": {
        "id": "JRV_Bmki54AN",
        "colab_type": "code",
        "colab": {}
      },
      "source": [
        "!apt-get install openjdk-8-jdk-headless -qq > /dev/null\n",
        "!wget -q http://www-eu.apache.org/dist/spark/spark-2.4.5/spark-2.4.5-bin-hadoop2.7.tgz\n",
        "!tar xf spark-2.4.5-bin-hadoop2.7.tgz\n",
        "!pip install -q findspark"
      ],
      "execution_count": 0,
      "outputs": []
    },
    {
      "cell_type": "code",
      "metadata": {
        "id": "qRggd2kZ6FgV",
        "colab_type": "code",
        "colab": {}
      },
      "source": [
        "import os\n",
        "os.environ[\"JAVA_HOME\"] = \"/usr/lib/jvm/java-8-openjdk-amd64\"\n",
        "os.environ[\"SPARK_HOME\"] = \"/content/spark-2.4.5-bin-hadoop2.7\""
      ],
      "execution_count": 0,
      "outputs": []
    },
    {
      "cell_type": "code",
      "metadata": {
        "id": "FYJKyovf6HfX",
        "colab_type": "code",
        "colab": {}
      },
      "source": [
        "import findspark\n",
        "findspark.init()"
      ],
      "execution_count": 0,
      "outputs": []
    },
    {
      "cell_type": "code",
      "metadata": {
        "id": "CuZbU1CS6RX0",
        "colab_type": "code",
        "colab": {}
      },
      "source": [
        "from pyspark import SparkContext\n",
        "from pyspark.sql import SparkSession"
      ],
      "execution_count": 0,
      "outputs": []
    },
    {
      "cell_type": "code",
      "metadata": {
        "id": "mo7jHA8b6T8u",
        "colab_type": "code",
        "colab": {}
      },
      "source": [
        "from pyspark import SparkConf"
      ],
      "execution_count": 0,
      "outputs": []
    },
    {
      "cell_type": "code",
      "metadata": {
        "id": "AMINEWDK6V6T",
        "colab_type": "code",
        "colab": {}
      },
      "source": [
        "from pyspark.ml.feature import Tokenizer, RegexTokenizer\n",
        "from pyspark.sql.functions import col, udf\n",
        "from pyspark.sql.types import IntegerType"
      ],
      "execution_count": 0,
      "outputs": []
    },
    {
      "cell_type": "code",
      "metadata": {
        "id": "Ii3_vON56X4t",
        "colab_type": "code",
        "colab": {}
      },
      "source": [
        "from pyspark.sql.functions import udf\n",
        "from pyspark.sql.types import StringType\n",
        "from pyspark.sql.functions import col"
      ],
      "execution_count": 0,
      "outputs": []
    },
    {
      "cell_type": "code",
      "metadata": {
        "id": "KTtc9I3Z6Z9x",
        "colab_type": "code",
        "colab": {}
      },
      "source": [
        "MAX_MEMORY = \"10g\"\n",
        "\n",
        "spark = SparkSession \\\n",
        "    .builder \\\n",
        "    .appName(\"Foo\") \\\n",
        "    .config(\"spark.executor.memory\", MAX_MEMORY) \\\n",
        "    .config(\"spark.driver.memory\", MAX_MEMORY) \\\n",
        "    .getOrCreate()"
      ],
      "execution_count": 0,
      "outputs": []
    },
    {
      "cell_type": "code",
      "metadata": {
        "id": "wlkKa-Lv6cd5",
        "colab_type": "code",
        "colab": {}
      },
      "source": [
        "from pyspark.sql import SQLContext\n",
        "sqlCtx = SQLContext(spark)"
      ],
      "execution_count": 0,
      "outputs": []
    },
    {
      "cell_type": "code",
      "metadata": {
        "id": "bB0-jbg_6f_g",
        "colab_type": "code",
        "colab": {}
      },
      "source": [
        "df = spark.read.csv(\"/content/drive/My Drive/a_r_headline_token.csv\", header = \"true\")"
      ],
      "execution_count": 0,
      "outputs": []
    },
    {
      "cell_type": "code",
      "metadata": {
        "id": "mifniVoU6jcO",
        "colab_type": "code",
        "outputId": "9c000d73-327c-4f59-a58d-c8f3739109a8",
        "colab": {
          "base_uri": "https://localhost:8080/",
          "height": 34
        }
      },
      "source": [
        "df.count()"
      ],
      "execution_count": 12,
      "outputs": [
        {
          "output_type": "execute_result",
          "data": {
            "text/plain": [
              "3105184"
            ]
          },
          "metadata": {
            "tags": []
          },
          "execution_count": 12
        }
      ]
    },
    {
      "cell_type": "code",
      "metadata": {
        "id": "cQLfzpA06qNK",
        "colab_type": "code",
        "outputId": "ddc3d490-ad9f-4c9e-c08c-01582cd886a5",
        "colab": {
          "base_uri": "https://localhost:8080/",
          "height": 84
        }
      },
      "source": [
        "df.printSchema()"
      ],
      "execution_count": 13,
      "outputs": [
        {
          "output_type": "stream",
          "text": [
            "root\n",
            " |-- star_rating: string (nullable = true)\n",
            " |-- tokenized_headlines: string (nullable = true)\n",
            "\n"
          ],
          "name": "stdout"
        }
      ]
    },
    {
      "cell_type": "code",
      "metadata": {
        "id": "G0gyiSAg7Kcf",
        "colab_type": "code",
        "colab": {}
      },
      "source": [
        "from pyspark.sql.functions import col, regexp_replace, split\n",
        "df_mod= df.withColumn(\n",
        "    \"features\",\n",
        "    split(regexp_replace(col(\"tokenized_headlines\"), r\"(^\\[)|(\\]$)|(')\", \"\"), \",\")\n",
        ")"
      ],
      "execution_count": 0,
      "outputs": []
    },
    {
      "cell_type": "code",
      "metadata": {
        "id": "PJLWITPY6s52",
        "colab_type": "code",
        "colab": {}
      },
      "source": [
        "from pyspark.ml.feature import CountVectorizer\n",
        "cv = CountVectorizer(inputCol=\"features\", outputCol=\"tok_features\")"
      ],
      "execution_count": 0,
      "outputs": []
    },
    {
      "cell_type": "code",
      "metadata": {
        "id": "1WbC-GOx69ha",
        "colab_type": "code",
        "outputId": "7407091c-b34e-454a-c0bc-1050330d8810",
        "colab": {
          "base_uri": "https://localhost:8080/",
          "height": 454
        }
      },
      "source": [
        "model = cv.fit(df_mod)\n",
        "#model = cv.fit(tokenize)\n",
        "result = model.transform(df_mod)\n",
        "#result = model.transform(tokenize)\n",
        "result.select(\"tok_features\").show(truncate=False)"
      ],
      "execution_count": 16,
      "outputs": [
        {
          "output_type": "stream",
          "text": [
            "+--------------------------------------------------------------------------------+\n",
            "|tok_features                                                                    |\n",
            "+--------------------------------------------------------------------------------+\n",
            "|(262144,[1,5,19,30,53,59,337],[1.0,1.0,1.0,1.0,1.0,1.0,1.0])                    |\n",
            "|(262144,[201,1625],[1.0,1.0])                                                   |\n",
            "|(262144,[10,28,329],[1.0,1.0,1.0])                                              |\n",
            "|(262144,[21,139,191,947],[1.0,1.0,1.0,1.0])                                     |\n",
            "|(262144,[1782,8687,255750],[1.0,1.0,1.0])                                       |\n",
            "|(262144,[72,113],[1.0,1.0])                                                     |\n",
            "|(262144,[0,2,11,15,90,1687,9052,10269],[1.0,1.0,1.0,1.0,1.0,1.0,1.0,1.0])       |\n",
            "|(262144,[0,107,190,506,11363],[1.0,1.0,1.0,1.0,1.0])                            |\n",
            "|(262144,[152,552],[1.0,1.0])                                                    |\n",
            "|(262144,[3,9,18],[1.0,1.0,1.0])                                                 |\n",
            "|(262144,[46,66,1177,1743,2008],[1.0,1.0,1.0,1.0,1.0])                           |\n",
            "|(262144,[8,209,277],[1.0,1.0,1.0])                                              |\n",
            "|(262144,[1,4,12,50,174,538,604,4626,5555],[1.0,1.0,1.0,1.0,1.0,1.0,1.0,1.0,1.0])|\n",
            "|(262144,[0,2,3,32,225,1100,23534],[1.0,1.0,1.0,1.0,1.0,1.0,1.0])                |\n",
            "|(262144,[14,56,84,634,1107,1454],[1.0,1.0,1.0,1.0,1.0,1.0])                     |\n",
            "|(262144,[1,13],[1.0,1.0])                                                       |\n",
            "|(262144,[15,29,332,7510],[1.0,1.0,1.0,1.0])                                     |\n",
            "|(262144,[242,20222,23625],[1.0,1.0,1.0])                                        |\n",
            "|(262144,[1,4598],[1.0,1.0])                                                     |\n",
            "|(262144,[13,79],[1.0,1.0])                                                      |\n",
            "+--------------------------------------------------------------------------------+\n",
            "only showing top 20 rows\n",
            "\n"
          ],
          "name": "stdout"
        }
      ]
    },
    {
      "cell_type": "code",
      "metadata": {
        "id": "UzdlLQEZYAOU",
        "colab_type": "code",
        "colab": {}
      },
      "source": [
        "from pyspark.sql.types import IntegerType\n",
        "result = result.withColumn(\"star_rating\", result[\"star_rating\"].cast(IntegerType()))"
      ],
      "execution_count": 0,
      "outputs": []
    },
    {
      "cell_type": "code",
      "metadata": {
        "id": "KbyBzQr_7FHg",
        "colab_type": "code",
        "outputId": "e1730ec2-2b8a-4645-8440-0d8dc11a652f",
        "colab": {
          "base_uri": "https://localhost:8080/",
          "height": 454
        }
      },
      "source": [
        "result.show()"
      ],
      "execution_count": 18,
      "outputs": [
        {
          "output_type": "stream",
          "text": [
            "+-----------+--------------------+--------------------+--------------------+\n",
            "|star_rating| tokenized_headlines|            features|        tok_features|\n",
            "+-----------+--------------------+--------------------+--------------------+\n",
            "|          4|['this', 'book', ...|[this,  book,  wa...|(262144,[1,5,19,3...|\n",
            "|          3|    ['fun', 'fluff']|       [fun,  fluff]|(262144,[201,1625...|\n",
            "|          4|\"['this', 'is', \"...|[\"[this,  is,  \"\"...|(262144,[10,28,32...|\n",
            "|          5|['fine', 'author'...|[fine,  author,  ...|(262144,[21,139,1...|\n",
            "|          4|['execellent', 'c...|[execellent,  cur...|(262144,[1782,868...|\n",
            "|          4|['interesting', '...| [interesting,  fun]|(262144,[72,113],...|\n",
            "|          4|\"['i', 'viewed', ...|[\"[i,  viewed,  t...|(262144,[0,2,11,1...|\n",
            "|          4|['no', 'frills', ...|[no,  frills,  ju...|(262144,[0,107,19...|\n",
            "|          5|['simple', 'enter...|[simple,  enterta...|(262144,[152,552]...|\n",
            "|          4|['a', 'good', 're...|   [a,  good,  read]|(262144,[3,9,18],...|\n",
            "|          5|['made', 'me', 'q...|[made,  me,  ques...|(262144,[46,66,11...|\n",
            "|          5|['the', 'perfect'...|[the,  perfect,  ...|(262144,[8,209,27...|\n",
            "|          4|['solid', 'book',...|[solid,  book,  a...|(262144,[1,4,12,5...|\n",
            "|          5|['a', 'riveting',...|[a,  riveting,  a...|(262144,[0,2,3,32...|\n",
            "|          4|['comprehensive',...|[comprehensive,  ...|(262144,[14,56,84...|\n",
            "|          4|   ['great', 'book']|      [great,  book]|(262144,[1,13],[1...|\n",
            "|          3|['problems', 'wit...|[problems,  with,...|(262144,[15,29,33...|\n",
            "|          2|['warmed', 'over'...|[warmed,  over,  ...|(262144,[242,2022...|\n",
            "|          5|['funniest', 'book']|   [funniest,  book]|(262144,[1,4598],...|\n",
            "|          5|   ['great', 'work']|      [great,  work]|(262144,[13,79],[...|\n",
            "+-----------+--------------------+--------------------+--------------------+\n",
            "only showing top 20 rows\n",
            "\n"
          ],
          "name": "stdout"
        }
      ]
    },
    {
      "cell_type": "code",
      "metadata": {
        "id": "G9OAffwdY80D",
        "colab_type": "code",
        "outputId": "75339247-365f-4859-99c5-e5bbeddd2e78",
        "colab": {
          "base_uri": "https://localhost:8080/",
          "height": 134
        }
      },
      "source": [
        "result.printSchema()"
      ],
      "execution_count": 19,
      "outputs": [
        {
          "output_type": "stream",
          "text": [
            "root\n",
            " |-- star_rating: integer (nullable = true)\n",
            " |-- tokenized_headlines: string (nullable = true)\n",
            " |-- features: array (nullable = true)\n",
            " |    |-- element: string (containsNull = true)\n",
            " |-- tok_features: vector (nullable = true)\n",
            "\n"
          ],
          "name": "stdout"
        }
      ]
    },
    {
      "cell_type": "code",
      "metadata": {
        "id": "l1bKfdP2HDcg",
        "colab_type": "code",
        "colab": {}
      },
      "source": [
        "train, test = result.randomSplit([0.9, 0.1], seed=12345)"
      ],
      "execution_count": 0,
      "outputs": []
    },
    {
      "cell_type": "code",
      "metadata": {
        "id": "WSf2H9C6XOxs",
        "colab_type": "code",
        "outputId": "d1312e2e-fb5e-4e3f-c5f6-4f2de25a270f",
        "colab": {
          "base_uri": "https://localhost:8080/",
          "height": 286
        }
      },
      "source": [
        "from pyspark.ml.classification import LogisticRegression\n",
        "lr = LogisticRegression(labelCol=\"star_rating\", featuresCol=\"tok_features\",maxIter=10)\n",
        "model=lr.fit(train)\n",
        "predict_train=model.transform(train)\n",
        "#predict_test=model.transform(test)\n",
        "predict_train.select(\"star_rating\",\"prediction\").show(10)"
      ],
      "execution_count": 23,
      "outputs": [
        {
          "output_type": "stream",
          "text": [
            "+-----------+----------+\n",
            "|star_rating|prediction|\n",
            "+-----------+----------+\n",
            "|          1|       5.0|\n",
            "|          1|       5.0|\n",
            "|          1|       5.0|\n",
            "|          1|       4.0|\n",
            "|          1|       1.0|\n",
            "|          1|       1.0|\n",
            "|          1|       1.0|\n",
            "|          1|       5.0|\n",
            "|          1|       1.0|\n",
            "|          1|       1.0|\n",
            "+-----------+----------+\n",
            "only showing top 10 rows\n",
            "\n"
          ],
          "name": "stdout"
        }
      ]
    },
    {
      "cell_type": "code",
      "metadata": {
        "id": "dLGgzNMeap37",
        "colab_type": "code",
        "colab": {
          "base_uri": "https://localhost:8080/",
          "height": 286
        },
        "outputId": "e57e6728-81ab-454a-eaf0-e772215f5297"
      },
      "source": [
        "predict_test=model.transform(test)\n",
        "#predict_test=model.transform(test)\n",
        "predict_test.select(\"star_rating\",\"prediction\").show(10)"
      ],
      "execution_count": 27,
      "outputs": [
        {
          "output_type": "stream",
          "text": [
            "+-----------+----------+\n",
            "|star_rating|prediction|\n",
            "+-----------+----------+\n",
            "|          1|       1.0|\n",
            "|          1|       5.0|\n",
            "|          1|       5.0|\n",
            "|          1|       1.0|\n",
            "|          1|       2.0|\n",
            "|          1|       5.0|\n",
            "|          1|       5.0|\n",
            "|          1|       5.0|\n",
            "|          1|       5.0|\n",
            "|          1|       5.0|\n",
            "+-----------+----------+\n",
            "only showing top 10 rows\n",
            "\n"
          ],
          "name": "stdout"
        }
      ]
    },
    {
      "cell_type": "code",
      "metadata": {
        "id": "5lxiR9RkOT2f",
        "colab_type": "code",
        "colab": {}
      },
      "source": [
        "from pyspark.ml.evaluation import MulticlassClassificationEvaluator\n",
        "evaluator = MulticlassClassificationEvaluator(predictionCol=\"prediction\", labelCol=\"star_rating\") "
      ],
      "execution_count": 0,
      "outputs": []
    },
    {
      "cell_type": "code",
      "metadata": {
        "id": "pkAI4ODhOfaF",
        "colab_type": "code",
        "colab": {
          "base_uri": "https://localhost:8080/",
          "height": 34
        },
        "outputId": "878c2382-1e2b-4189-c4a1-2b786a02b655"
      },
      "source": [
        "print('F1-Score ', evaluator.evaluate(predict_test, \n",
        "                                      {evaluator.metricName: 'f1'}))"
      ],
      "execution_count": 37,
      "outputs": [
        {
          "output_type": "stream",
          "text": [
            "F1-Score  0.605312288824925\n"
          ],
          "name": "stdout"
        }
      ]
    },
    {
      "cell_type": "code",
      "metadata": {
        "id": "f3dB3QU1R6LO",
        "colab_type": "code",
        "colab": {
          "base_uri": "https://localhost:8080/",
          "height": 67
        },
        "outputId": "0062c799-847c-4c85-c501-81820c85437c"
      },
      "source": [
        "print('Precision ', evaluator.evaluate(predict_test,\n",
        "                                       {evaluator.metricName:'weightedPrecision'}))\n",
        "print('Recall ', evaluator.evaluate(predict_test, \n",
        "                                    {evaluator.metricName: 'weightedRecall'}))\n",
        "print('Accuracy ', evaluator.evaluate(predict_test, \n",
        "                                      {evaluator.metricName: 'accuracy'}))"
      ],
      "execution_count": 38,
      "outputs": [
        {
          "output_type": "stream",
          "text": [
            "Precision  0.5967082047117059\n",
            "Recall  0.6493410807819517\n",
            "Accuracy  0.6493410807819517\n"
          ],
          "name": "stdout"
        }
      ]
    },
    {
      "cell_type": "code",
      "metadata": {
        "id": "DjMFkeJoY-fy",
        "colab_type": "code",
        "colab": {}
      },
      "source": [
        "#print(model.summary)"
      ],
      "execution_count": 0,
      "outputs": []
    },
    {
      "cell_type": "code",
      "metadata": {
        "id": "Lj7HIrz3aKVa",
        "colab_type": "code",
        "colab": {}
      },
      "source": [
        "#accuracy = trainingSummary.accuracy\n"
      ],
      "execution_count": 0,
      "outputs": []
    },
    {
      "cell_type": "code",
      "metadata": {
        "id": "Cy3f5MKtaPxS",
        "colab_type": "code",
        "colab": {}
      },
      "source": [
        "#print(\"accuracy of logistic regression\",accuracy)"
      ],
      "execution_count": 0,
      "outputs": []
    },
    {
      "cell_type": "code",
      "metadata": {
        "id": "wmSHO5V1Kooy",
        "colab_type": "code",
        "colab": {}
      },
      "source": [
        ""
      ],
      "execution_count": 0,
      "outputs": []
    }
  ]
}